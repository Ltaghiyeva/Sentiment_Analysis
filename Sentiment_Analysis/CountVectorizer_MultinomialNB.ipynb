{
 "cells": [
  {
   "cell_type": "markdown",
   "id": "581661ab",
   "metadata": {
    "id": "EqtyusAn5-9u"
   },
   "source": [
    "# Sentiment Analysis with MultinomialNB for Azerbaijani comments."
   ]
  },
  {
   "cell_type": "code",
   "execution_count": 1,
   "id": "d4579f23",
   "metadata": {
    "id": "o6zbTJdP5-91"
   },
   "outputs": [],
   "source": [
    "# Necessary libraries \n",
    "import pandas as pd \n",
    "import seaborn as sns\n",
    "import pandas as pd\n",
    "import numpy as np"
   ]
  },
  {
   "cell_type": "code",
   "execution_count": 2,
   "id": "f0d6a267",
   "metadata": {
    "id": "-NJdHesZ5-93"
   },
   "outputs": [],
   "source": [
    "# Reading the data\n",
    "# df  = pd.read_excel(\"all_sentiments.csv\", sheet_name=\"Table1\") "
   ]
  },
  {
   "cell_type": "code",
   "execution_count": 3,
   "id": "a78c3ca1",
   "metadata": {},
   "outputs": [],
   "source": [
    "df1 = pd.read_excel('Comments - edited (modified2) 2.xlsx')"
   ]
  },
  {
   "cell_type": "code",
   "execution_count": 4,
   "id": "0b174bad",
   "metadata": {},
   "outputs": [
    {
     "data": {
      "text/plain": [
       "Index(['Comment', 'Sentiment', 'Percentage', 'Topic'], dtype='object')"
      ]
     },
     "execution_count": 4,
     "metadata": {},
     "output_type": "execute_result"
    }
   ],
   "source": [
    "df1.columns"
   ]
  },
  {
   "cell_type": "code",
   "execution_count": 5,
   "id": "e2497283",
   "metadata": {},
   "outputs": [
    {
     "data": {
      "text/html": [
       "<div>\n",
       "<style scoped>\n",
       "    .dataframe tbody tr th:only-of-type {\n",
       "        vertical-align: middle;\n",
       "    }\n",
       "\n",
       "    .dataframe tbody tr th {\n",
       "        vertical-align: top;\n",
       "    }\n",
       "\n",
       "    .dataframe thead th {\n",
       "        text-align: right;\n",
       "    }\n",
       "</style>\n",
       "<table border=\"1\" class=\"dataframe\">\n",
       "  <thead>\n",
       "    <tr style=\"text-align: right;\">\n",
       "      <th></th>\n",
       "      <th>Comment</th>\n",
       "      <th>Sentiment</th>\n",
       "      <th>Percentage</th>\n",
       "      <th>Topic</th>\n",
       "    </tr>\n",
       "  </thead>\n",
       "  <tbody>\n",
       "    <tr>\n",
       "      <th>0</th>\n",
       "      <td>vallah bir ay deyil çəkdiyimiz, 30 dəfə usta g...</td>\n",
       "      <td>Negative</td>\n",
       "      <td>6</td>\n",
       "      <td>Shark Telecom</td>\n",
       "    </tr>\n",
       "    <tr>\n",
       "      <th>1</th>\n",
       "      <td>siz nətər insansız neyse 160 manat burnunuzdan...</td>\n",
       "      <td>Negative</td>\n",
       "      <td>8</td>\n",
       "      <td>Shark Telecom</td>\n",
       "    </tr>\n",
       "    <tr>\n",
       "      <th>2</th>\n",
       "      <td>hardadi i indi bele saf uwaqlar ve dermanlar</td>\n",
       "      <td>Negative</td>\n",
       "      <td>4</td>\n",
       "      <td>Shark Telecom</td>\n",
       "    </tr>\n",
       "    <tr>\n",
       "      <th>3</th>\n",
       "      <td>biz bu gün asif məhərrəmov filialından pendir ...</td>\n",
       "      <td>Negative</td>\n",
       "      <td>5</td>\n",
       "      <td>Neptun Supermarket</td>\n",
       "    </tr>\n",
       "    <tr>\n",
       "      <th>4</th>\n",
       "      <td>maraqlidir</td>\n",
       "      <td>Positive</td>\n",
       "      <td>6</td>\n",
       "      <td>Borani Restoran</td>\n",
       "    </tr>\n",
       "  </tbody>\n",
       "</table>\n",
       "</div>"
      ],
      "text/plain": [
       "                                             Comment Sentiment Percentage  \\\n",
       "0  vallah bir ay deyil çəkdiyimiz, 30 dəfə usta g...  Negative          6   \n",
       "1  siz nətər insansız neyse 160 manat burnunuzdan...  Negative          8   \n",
       "2       hardadi i indi bele saf uwaqlar ve dermanlar  Negative          4   \n",
       "3  biz bu gün asif məhərrəmov filialından pendir ...  Negative          5   \n",
       "4                                         maraqlidir  Positive          6   \n",
       "\n",
       "                Topic  \n",
       "0       Shark Telecom  \n",
       "1       Shark Telecom  \n",
       "2       Shark Telecom  \n",
       "3  Neptun Supermarket  \n",
       "4     Borani Restoran  "
      ]
     },
     "execution_count": 5,
     "metadata": {},
     "output_type": "execute_result"
    }
   ],
   "source": [
    "df1.head()"
   ]
  },
  {
   "cell_type": "code",
   "execution_count": 6,
   "id": "aa9180fb",
   "metadata": {},
   "outputs": [
    {
     "data": {
      "text/plain": [
       "(44361, 4)"
      ]
     },
     "execution_count": 6,
     "metadata": {},
     "output_type": "execute_result"
    }
   ],
   "source": [
    "df1.shape"
   ]
  },
  {
   "cell_type": "code",
   "execution_count": null,
   "id": "9d5c5258",
   "metadata": {},
   "outputs": [],
   "source": []
  },
  {
   "cell_type": "code",
   "execution_count": 7,
   "id": "45858cd4",
   "metadata": {},
   "outputs": [],
   "source": [
    "df2 = pd.read_excel('exported_with_predictions.xlsx')"
   ]
  },
  {
   "cell_type": "code",
   "execution_count": 8,
   "id": "2fd409d9",
   "metadata": {},
   "outputs": [
    {
     "data": {
      "text/html": [
       "<div>\n",
       "<style scoped>\n",
       "    .dataframe tbody tr th:only-of-type {\n",
       "        vertical-align: middle;\n",
       "    }\n",
       "\n",
       "    .dataframe tbody tr th {\n",
       "        vertical-align: top;\n",
       "    }\n",
       "\n",
       "    .dataframe thead th {\n",
       "        text-align: right;\n",
       "    }\n",
       "</style>\n",
       "<table border=\"1\" class=\"dataframe\">\n",
       "  <thead>\n",
       "    <tr style=\"text-align: right;\">\n",
       "      <th></th>\n",
       "      <th>Unnamed: 0</th>\n",
       "      <th>Comment_prev</th>\n",
       "      <th>Comment</th>\n",
       "      <th>predicted</th>\n",
       "    </tr>\n",
       "  </thead>\n",
       "  <tbody>\n",
       "    <tr>\n",
       "      <th>0</th>\n",
       "      <td>0</td>\n",
       "      <td>Ozu.</td>\n",
       "      <td>özü</td>\n",
       "      <td>Neutral</td>\n",
       "    </tr>\n",
       "    <tr>\n",
       "      <th>1</th>\n",
       "      <td>1</td>\n",
       "      <td>Eve.</td>\n",
       "      <td>evə</td>\n",
       "      <td>Neutral</td>\n",
       "    </tr>\n",
       "    <tr>\n",
       "      <th>2</th>\n",
       "      <td>2</td>\n",
       "      <td>Esx.</td>\n",
       "      <td>eşq</td>\n",
       "      <td>Neutral</td>\n",
       "    </tr>\n",
       "    <tr>\n",
       "      <th>3</th>\n",
       "      <td>3</td>\n",
       "      <td>Ela.</td>\n",
       "      <td>əla</td>\n",
       "      <td>Positive</td>\n",
       "    </tr>\n",
       "    <tr>\n",
       "      <th>4</th>\n",
       "      <td>4</td>\n",
       "      <td>Men.</td>\n",
       "      <td>mən</td>\n",
       "      <td>Neutral</td>\n",
       "    </tr>\n",
       "  </tbody>\n",
       "</table>\n",
       "</div>"
      ],
      "text/plain": [
       "   Unnamed: 0 Comment_prev Comment predicted\n",
       "0           0         Ozu.     özü   Neutral\n",
       "1           1         Eve.     evə   Neutral\n",
       "2           2         Esx.     eşq   Neutral\n",
       "3           3         Ela.     əla  Positive\n",
       "4           4         Men.     mən   Neutral"
      ]
     },
     "execution_count": 8,
     "metadata": {},
     "output_type": "execute_result"
    }
   ],
   "source": [
    "df2.head()"
   ]
  },
  {
   "cell_type": "code",
   "execution_count": 9,
   "id": "f7b230be",
   "metadata": {},
   "outputs": [
    {
     "data": {
      "text/plain": [
       "Index(['Unnamed: 0', 'Comment_prev', 'Comment', 'predicted'], dtype='object')"
      ]
     },
     "execution_count": 9,
     "metadata": {},
     "output_type": "execute_result"
    }
   ],
   "source": [
    "df2.columns"
   ]
  },
  {
   "cell_type": "code",
   "execution_count": 10,
   "id": "79ec478e",
   "metadata": {},
   "outputs": [],
   "source": [
    "df2.columns = ['Index', 'Comment_prev', 'Comment', 'Sentiment']"
   ]
  },
  {
   "cell_type": "code",
   "execution_count": 11,
   "id": "5a003f2a",
   "metadata": {},
   "outputs": [
    {
     "data": {
      "text/html": [
       "<div>\n",
       "<style scoped>\n",
       "    .dataframe tbody tr th:only-of-type {\n",
       "        vertical-align: middle;\n",
       "    }\n",
       "\n",
       "    .dataframe tbody tr th {\n",
       "        vertical-align: top;\n",
       "    }\n",
       "\n",
       "    .dataframe thead th {\n",
       "        text-align: right;\n",
       "    }\n",
       "</style>\n",
       "<table border=\"1\" class=\"dataframe\">\n",
       "  <thead>\n",
       "    <tr style=\"text-align: right;\">\n",
       "      <th></th>\n",
       "      <th>Index</th>\n",
       "      <th>Comment_prev</th>\n",
       "      <th>Comment</th>\n",
       "      <th>Sentiment</th>\n",
       "    </tr>\n",
       "  </thead>\n",
       "  <tbody>\n",
       "    <tr>\n",
       "      <th>0</th>\n",
       "      <td>0</td>\n",
       "      <td>Ozu.</td>\n",
       "      <td>özü</td>\n",
       "      <td>Neutral</td>\n",
       "    </tr>\n",
       "    <tr>\n",
       "      <th>1</th>\n",
       "      <td>1</td>\n",
       "      <td>Eve.</td>\n",
       "      <td>evə</td>\n",
       "      <td>Neutral</td>\n",
       "    </tr>\n",
       "    <tr>\n",
       "      <th>2</th>\n",
       "      <td>2</td>\n",
       "      <td>Esx.</td>\n",
       "      <td>eşq</td>\n",
       "      <td>Neutral</td>\n",
       "    </tr>\n",
       "    <tr>\n",
       "      <th>3</th>\n",
       "      <td>3</td>\n",
       "      <td>Ela.</td>\n",
       "      <td>əla</td>\n",
       "      <td>Positive</td>\n",
       "    </tr>\n",
       "    <tr>\n",
       "      <th>4</th>\n",
       "      <td>4</td>\n",
       "      <td>Men.</td>\n",
       "      <td>mən</td>\n",
       "      <td>Neutral</td>\n",
       "    </tr>\n",
       "  </tbody>\n",
       "</table>\n",
       "</div>"
      ],
      "text/plain": [
       "   Index Comment_prev Comment Sentiment\n",
       "0      0         Ozu.     özü   Neutral\n",
       "1      1         Eve.     evə   Neutral\n",
       "2      2         Esx.     eşq   Neutral\n",
       "3      3         Ela.     əla  Positive\n",
       "4      4         Men.     mən   Neutral"
      ]
     },
     "execution_count": 11,
     "metadata": {},
     "output_type": "execute_result"
    }
   ],
   "source": [
    "df2.head()"
   ]
  },
  {
   "cell_type": "code",
   "execution_count": 12,
   "id": "b4faeedc",
   "metadata": {},
   "outputs": [
    {
     "data": {
      "text/plain": [
       "(19950, 4)"
      ]
     },
     "execution_count": 12,
     "metadata": {},
     "output_type": "execute_result"
    }
   ],
   "source": [
    "df2.shape"
   ]
  },
  {
   "cell_type": "code",
   "execution_count": 13,
   "id": "ebff6d11",
   "metadata": {
    "colab": {
     "base_uri": "https://localhost:8080/"
    },
    "id": "1RWSnFkM6wHu",
    "outputId": "5d64a5a7-8857-4fb1-9984-2b12de67bde5"
   },
   "outputs": [],
   "source": [
    "# Reading the data from google drive, this is for working with google colab\n",
    "# import os\n",
    "# from google.colab import drive\n",
    "# drive.mount(\"/content/drive/\")\n",
    "# os.chdir('/content/drive/My Drive/')\n",
    "# df_bank = pd.read_excel(\"Comments_all_bank.xlsx\")"
   ]
  },
  {
   "cell_type": "code",
   "execution_count": 14,
   "id": "e8250a73",
   "metadata": {},
   "outputs": [],
   "source": [
    "# df_bank.head()"
   ]
  },
  {
   "cell_type": "code",
   "execution_count": 15,
   "id": "24bc1c93",
   "metadata": {},
   "outputs": [],
   "source": [
    "# df_bank.shape"
   ]
  },
  {
   "cell_type": "code",
   "execution_count": 16,
   "id": "d091462f",
   "metadata": {},
   "outputs": [],
   "source": [
    "# Randomly delete 80% of the neutral rows\n",
    "# neutral_rows= df_bank[df_bank['Sentiment'] == 'Neutral']\n",
    "\n",
    "# delete_rows = np.random.choice(neutral_rows.index, size=int(len(neutral_rows)*0.8), replace=False)\n",
    "# df_bank = df_bank.drop(delete_rows)\n"
   ]
  },
  {
   "cell_type": "code",
   "execution_count": 17,
   "id": "e6fb7998",
   "metadata": {},
   "outputs": [],
   "source": [
    "# df_bank.shape"
   ]
  },
  {
   "cell_type": "code",
   "execution_count": 18,
   "id": "ffe0e594",
   "metadata": {},
   "outputs": [],
   "source": [
    "df = pd.concat([df1[[\"Comment\", \"Sentiment\"]], df2[[\"Comment\", \"Sentiment\"]]], ignore_index=True)"
   ]
  },
  {
   "cell_type": "code",
   "execution_count": 19,
   "id": "6116264e",
   "metadata": {},
   "outputs": [],
   "source": [
    "#df.columns = [\"Comment\", \"Sentiment\"]"
   ]
  },
  {
   "cell_type": "code",
   "execution_count": 20,
   "id": "2f6240fd",
   "metadata": {},
   "outputs": [
    {
     "data": {
      "text/html": [
       "<div>\n",
       "<style scoped>\n",
       "    .dataframe tbody tr th:only-of-type {\n",
       "        vertical-align: middle;\n",
       "    }\n",
       "\n",
       "    .dataframe tbody tr th {\n",
       "        vertical-align: top;\n",
       "    }\n",
       "\n",
       "    .dataframe thead th {\n",
       "        text-align: right;\n",
       "    }\n",
       "</style>\n",
       "<table border=\"1\" class=\"dataframe\">\n",
       "  <thead>\n",
       "    <tr style=\"text-align: right;\">\n",
       "      <th></th>\n",
       "      <th>Comment</th>\n",
       "      <th>Sentiment</th>\n",
       "    </tr>\n",
       "  </thead>\n",
       "  <tbody>\n",
       "    <tr>\n",
       "      <th>0</th>\n",
       "      <td>vallah bir ay deyil çəkdiyimiz, 30 dəfə usta g...</td>\n",
       "      <td>Negative</td>\n",
       "    </tr>\n",
       "    <tr>\n",
       "      <th>1</th>\n",
       "      <td>siz nətər insansız neyse 160 manat burnunuzdan...</td>\n",
       "      <td>Negative</td>\n",
       "    </tr>\n",
       "    <tr>\n",
       "      <th>2</th>\n",
       "      <td>hardadi i indi bele saf uwaqlar ve dermanlar</td>\n",
       "      <td>Negative</td>\n",
       "    </tr>\n",
       "    <tr>\n",
       "      <th>3</th>\n",
       "      <td>biz bu gün asif məhərrəmov filialından pendir ...</td>\n",
       "      <td>Negative</td>\n",
       "    </tr>\n",
       "    <tr>\n",
       "      <th>4</th>\n",
       "      <td>maraqlidir</td>\n",
       "      <td>Positive</td>\n",
       "    </tr>\n",
       "  </tbody>\n",
       "</table>\n",
       "</div>"
      ],
      "text/plain": [
       "                                             Comment Sentiment\n",
       "0  vallah bir ay deyil çəkdiyimiz, 30 dəfə usta g...  Negative\n",
       "1  siz nətər insansız neyse 160 manat burnunuzdan...  Negative\n",
       "2       hardadi i indi bele saf uwaqlar ve dermanlar  Negative\n",
       "3  biz bu gün asif məhərrəmov filialından pendir ...  Negative\n",
       "4                                         maraqlidir  Positive"
      ]
     },
     "execution_count": 20,
     "metadata": {},
     "output_type": "execute_result"
    }
   ],
   "source": [
    "df.head()"
   ]
  },
  {
   "cell_type": "code",
   "execution_count": 21,
   "id": "160d4b9a",
   "metadata": {
    "colab": {
     "base_uri": "https://localhost:8080/",
     "height": 204
    },
    "id": "0sEejGhM5--D",
    "outputId": "2364a5c5-652f-4159-bd60-33dd8be1335c",
    "scrolled": true
   },
   "outputs": [
    {
     "data": {
      "text/plain": [
       "(64311, 2)"
      ]
     },
     "execution_count": 21,
     "metadata": {},
     "output_type": "execute_result"
    }
   ],
   "source": [
    "df.shape"
   ]
  },
  {
   "cell_type": "code",
   "execution_count": 22,
   "id": "10f5a437",
   "metadata": {
    "id": "RKCNGvJJ5--I"
   },
   "outputs": [],
   "source": [
    "# Working with only relevant columns\n",
    "df = df[[\"Comment\", \"Sentiment\"]]"
   ]
  },
  {
   "cell_type": "code",
   "execution_count": 23,
   "id": "ee5aa0da",
   "metadata": {
    "colab": {
     "base_uri": "https://localhost:8080/",
     "height": 204
    },
    "id": "3LNk5_R_5--J",
    "outputId": "a1c2b24c-9597-4f72-e336-1b4d6157a62f"
   },
   "outputs": [
    {
     "data": {
      "text/html": [
       "<div>\n",
       "<style scoped>\n",
       "    .dataframe tbody tr th:only-of-type {\n",
       "        vertical-align: middle;\n",
       "    }\n",
       "\n",
       "    .dataframe tbody tr th {\n",
       "        vertical-align: top;\n",
       "    }\n",
       "\n",
       "    .dataframe thead th {\n",
       "        text-align: right;\n",
       "    }\n",
       "</style>\n",
       "<table border=\"1\" class=\"dataframe\">\n",
       "  <thead>\n",
       "    <tr style=\"text-align: right;\">\n",
       "      <th></th>\n",
       "      <th>Comment</th>\n",
       "      <th>Sentiment</th>\n",
       "    </tr>\n",
       "  </thead>\n",
       "  <tbody>\n",
       "    <tr>\n",
       "      <th>0</th>\n",
       "      <td>vallah bir ay deyil çəkdiyimiz, 30 dəfə usta g...</td>\n",
       "      <td>Negative</td>\n",
       "    </tr>\n",
       "    <tr>\n",
       "      <th>1</th>\n",
       "      <td>siz nətər insansız neyse 160 manat burnunuzdan...</td>\n",
       "      <td>Negative</td>\n",
       "    </tr>\n",
       "    <tr>\n",
       "      <th>2</th>\n",
       "      <td>hardadi i indi bele saf uwaqlar ve dermanlar</td>\n",
       "      <td>Negative</td>\n",
       "    </tr>\n",
       "    <tr>\n",
       "      <th>3</th>\n",
       "      <td>biz bu gün asif məhərrəmov filialından pendir ...</td>\n",
       "      <td>Negative</td>\n",
       "    </tr>\n",
       "    <tr>\n",
       "      <th>4</th>\n",
       "      <td>maraqlidir</td>\n",
       "      <td>Positive</td>\n",
       "    </tr>\n",
       "  </tbody>\n",
       "</table>\n",
       "</div>"
      ],
      "text/plain": [
       "                                             Comment Sentiment\n",
       "0  vallah bir ay deyil çəkdiyimiz, 30 dəfə usta g...  Negative\n",
       "1  siz nətər insansız neyse 160 manat burnunuzdan...  Negative\n",
       "2       hardadi i indi bele saf uwaqlar ve dermanlar  Negative\n",
       "3  biz bu gün asif məhərrəmov filialından pendir ...  Negative\n",
       "4                                         maraqlidir  Positive"
      ]
     },
     "execution_count": 23,
     "metadata": {},
     "output_type": "execute_result"
    }
   ],
   "source": [
    "df.head()"
   ]
  },
  {
   "cell_type": "code",
   "execution_count": 24,
   "id": "51a99ec8",
   "metadata": {
    "colab": {
     "base_uri": "https://localhost:8080/"
    },
    "id": "0na5rf135--N",
    "outputId": "0958d636-6bc8-4ca7-fe33-065baaa5e321"
   },
   "outputs": [
    {
     "data": {
      "text/plain": [
       "(64311, 2)"
      ]
     },
     "execution_count": 24,
     "metadata": {},
     "output_type": "execute_result"
    }
   ],
   "source": [
    "df.shape"
   ]
  },
  {
   "cell_type": "code",
   "execution_count": 25,
   "id": "0dc2bfdc",
   "metadata": {
    "colab": {
     "base_uri": "https://localhost:8080/"
    },
    "id": "aDArs8iw5--S",
    "outputId": "127a6aea-8f4a-44ee-b44b-8c5ea09477c7"
   },
   "outputs": [
    {
     "data": {
      "text/plain": [
       "Comment         55\n",
       "Sentiment    18989\n",
       "dtype: int64"
      ]
     },
     "execution_count": 25,
     "metadata": {},
     "output_type": "execute_result"
    }
   ],
   "source": [
    "# Do we have NA in data?\n",
    "df.isna().sum()"
   ]
  },
  {
   "cell_type": "code",
   "execution_count": 26,
   "id": "f3d50fa2",
   "metadata": {
    "id": "wkRG4t905--W"
   },
   "outputs": [],
   "source": [
    "# Deleting the rows that have NA\n",
    "df.dropna(inplace=True)"
   ]
  },
  {
   "cell_type": "code",
   "execution_count": 27,
   "id": "5839a97e",
   "metadata": {
    "id": "VLE_W6z35--Z"
   },
   "outputs": [],
   "source": [
    "# resetting index\n",
    "df.reset_index(drop=True, inplace=True)"
   ]
  },
  {
   "cell_type": "code",
   "execution_count": 28,
   "id": "53e12b65",
   "metadata": {
    "colab": {
     "base_uri": "https://localhost:8080/"
    },
    "id": "92uChMm25--a",
    "outputId": "4a3bede1-ea00-4e31-f8b0-1044fb4121a3"
   },
   "outputs": [
    {
     "data": {
      "text/plain": [
       "(45270, 2)"
      ]
     },
     "execution_count": 28,
     "metadata": {},
     "output_type": "execute_result"
    }
   ],
   "source": [
    "df.shape # We have 13522 labeled sentences"
   ]
  },
  {
   "cell_type": "code",
   "execution_count": 29,
   "id": "c9ab4e9c",
   "metadata": {
    "colab": {
     "base_uri": "https://localhost:8080/",
     "height": 204
    },
    "id": "aiuRLtJx5--c",
    "outputId": "254923b6-cf38-42b2-cd8c-da4e2a820b6f"
   },
   "outputs": [
    {
     "data": {
      "text/html": [
       "<div>\n",
       "<style scoped>\n",
       "    .dataframe tbody tr th:only-of-type {\n",
       "        vertical-align: middle;\n",
       "    }\n",
       "\n",
       "    .dataframe tbody tr th {\n",
       "        vertical-align: top;\n",
       "    }\n",
       "\n",
       "    .dataframe thead th {\n",
       "        text-align: right;\n",
       "    }\n",
       "</style>\n",
       "<table border=\"1\" class=\"dataframe\">\n",
       "  <thead>\n",
       "    <tr style=\"text-align: right;\">\n",
       "      <th></th>\n",
       "      <th>Comment</th>\n",
       "      <th>Sentiment</th>\n",
       "    </tr>\n",
       "  </thead>\n",
       "  <tbody>\n",
       "    <tr>\n",
       "      <th>0</th>\n",
       "      <td>vallah bir ay deyil çəkdiyimiz, 30 dəfə usta g...</td>\n",
       "      <td>Negative</td>\n",
       "    </tr>\n",
       "    <tr>\n",
       "      <th>1</th>\n",
       "      <td>siz nətər insansız neyse 160 manat burnunuzdan...</td>\n",
       "      <td>Negative</td>\n",
       "    </tr>\n",
       "    <tr>\n",
       "      <th>2</th>\n",
       "      <td>hardadi i indi bele saf uwaqlar ve dermanlar</td>\n",
       "      <td>Negative</td>\n",
       "    </tr>\n",
       "    <tr>\n",
       "      <th>3</th>\n",
       "      <td>biz bu gün asif məhərrəmov filialından pendir ...</td>\n",
       "      <td>Negative</td>\n",
       "    </tr>\n",
       "    <tr>\n",
       "      <th>4</th>\n",
       "      <td>maraqlidir</td>\n",
       "      <td>Positive</td>\n",
       "    </tr>\n",
       "  </tbody>\n",
       "</table>\n",
       "</div>"
      ],
      "text/plain": [
       "                                             Comment Sentiment\n",
       "0  vallah bir ay deyil çəkdiyimiz, 30 dəfə usta g...  Negative\n",
       "1  siz nətər insansız neyse 160 manat burnunuzdan...  Negative\n",
       "2       hardadi i indi bele saf uwaqlar ve dermanlar  Negative\n",
       "3  biz bu gün asif məhərrəmov filialından pendir ...  Negative\n",
       "4                                         maraqlidir  Positive"
      ]
     },
     "execution_count": 29,
     "metadata": {},
     "output_type": "execute_result"
    }
   ],
   "source": [
    "df.head()"
   ]
  },
  {
   "cell_type": "code",
   "execution_count": 30,
   "id": "8ecdacb3",
   "metadata": {
    "colab": {
     "base_uri": "https://localhost:8080/",
     "height": 296
    },
    "id": "h9D_ifEq5--e",
    "outputId": "32d78f0f-0313-4263-96e3-d6f7257bc388"
   },
   "outputs": [
    {
     "data": {
      "text/plain": [
       "<Axes: xlabel='Sentiment', ylabel='count'>"
      ]
     },
     "execution_count": 30,
     "metadata": {},
     "output_type": "execute_result"
    },
    {
     "data": {
      "image/png": "[encoded data removed]",
      "text/plain": [
       "<Figure size 640x480 with 1 Axes>"
      ]
     },
     "metadata": {},
     "output_type": "display_data"
    }
   ],
   "source": [
    "# It seems you made a mistake while labeling \n",
    "sns.countplot(x = \"Sentiment\", data = df)"
   ]
  },
  {
   "cell_type": "code",
   "execution_count": 31,
   "id": "f4f527ef",
   "metadata": {
    "colab": {
     "base_uri": "https://localhost:8080/"
    },
    "id": "eNTsy3CS5--k",
    "outputId": "7f562bb2-afeb-41df-abd1-0f5fc87436da"
   },
   "outputs": [
    {
     "data": {
      "text/plain": [
       "Neutral      26565\n",
       "Negative      9240\n",
       "Positive      8989\n",
       "Undefined      227\n",
       "neutral        154\n",
       "negative        54\n",
       "positive        23\n",
       "Positive         5\n",
       "Postive          4\n",
       " Negative        3\n",
       "(?)              2\n",
       "undefined        1\n",
       "Negativ e        1\n",
       " Neg             1\n",
       "Undefiend        1\n",
       "Name: Sentiment, dtype: int64"
      ]
     },
     "execution_count": 31,
     "metadata": {},
     "output_type": "execute_result"
    }
   ],
   "source": [
    "df[\"Sentiment\"].value_counts()"
   ]
  },
  {
   "cell_type": "code",
   "execution_count": null,
   "id": "0d5498f0",
   "metadata": {},
   "outputs": [],
   "source": []
  },
  {
   "cell_type": "code",
   "execution_count": 32,
   "id": "cf70a82a",
   "metadata": {
    "colab": {
     "base_uri": "https://localhost:8080/"
    },
    "id": "_sKqg4v45--l",
    "outputId": "262a6e95-ebdc-4802-f635-56bb99e8eff4"
   },
   "outputs": [
    {
     "data": {
      "text/plain": [
       "array(['Negative', 'Positive', 'Neutral', 'Undefined', 'undefined',\n",
       "       ' Negative', 'neutral', 'Negativ e', 'negative', '(?)', ' Neg',\n",
       "       'positive', 'Positive ', 'Undefiend', 'Postive'], dtype=object)"
      ]
     },
     "execution_count": 32,
     "metadata": {},
     "output_type": "execute_result"
    }
   ],
   "source": [
    "df[\"Sentiment\"].unique()"
   ]
  },
  {
   "cell_type": "code",
   "execution_count": 33,
   "id": "cfcbb99b",
   "metadata": {
    "colab": {
     "base_uri": "https://localhost:8080/",
     "height": 419
    },
    "id": "1VZJOS8e5--l",
    "outputId": "f1147dc0-2f2f-4ed6-a3fe-6b2659cffac4"
   },
   "outputs": [
    {
     "data": {
      "text/html": [
       "<div>\n",
       "<style scoped>\n",
       "    .dataframe tbody tr th:only-of-type {\n",
       "        vertical-align: middle;\n",
       "    }\n",
       "\n",
       "    .dataframe tbody tr th {\n",
       "        vertical-align: top;\n",
       "    }\n",
       "\n",
       "    .dataframe thead th {\n",
       "        text-align: right;\n",
       "    }\n",
       "</style>\n",
       "<table border=\"1\" class=\"dataframe\">\n",
       "  <thead>\n",
       "    <tr style=\"text-align: right;\">\n",
       "      <th></th>\n",
       "      <th>Comment</th>\n",
       "      <th>Sentiment</th>\n",
       "    </tr>\n",
       "  </thead>\n",
       "  <tbody>\n",
       "    <tr>\n",
       "      <th>130</th>\n",
       "      <td>сен онларын чавабыны козле</td>\n",
       "      <td>Undefined</td>\n",
       "    </tr>\n",
       "    <tr>\n",
       "      <th>140</th>\n",
       "      <td>@seqlb bəs rusiyaya bu qədər lənət deyirsənsə ...</td>\n",
       "      <td>Undefined</td>\n",
       "    </tr>\n",
       "    <tr>\n",
       "      <th>144</th>\n",
       "      <td>bunkerdən çıx</td>\n",
       "      <td>Undefined</td>\n",
       "    </tr>\n",
       "    <tr>\n",
       "      <th>164</th>\n",
       "      <td>@nigarturan169 hede gerey sosiska yeyesiz gedi...</td>\n",
       "      <td>Undefined</td>\n",
       "    </tr>\n",
       "    <tr>\n",
       "      <th>241</th>\n",
       "      <td>yaziğin dili çixdi işlemekdem</td>\n",
       "      <td>Undefined</td>\n",
       "    </tr>\n",
       "    <tr>\n",
       "      <th>...</th>\n",
       "      <td>...</td>\n",
       "      <td>...</td>\n",
       "    </tr>\n",
       "    <tr>\n",
       "      <th>12834</th>\n",
       "      <td>şənbə e-moizəsini başladı virtual sufi:- özünü...</td>\n",
       "      <td>Undefined</td>\n",
       "    </tr>\n",
       "    <tr>\n",
       "      <th>12835</th>\n",
       "      <td>necə istəyirsən</td>\n",
       "      <td>Undefined</td>\n",
       "    </tr>\n",
       "    <tr>\n",
       "      <th>12852</th>\n",
       "      <td>şəbiynən mesajlarımızı görsəz elə bil 2 sevgil...</td>\n",
       "      <td>Undefined</td>\n",
       "    </tr>\n",
       "    <tr>\n",
       "      <th>12862</th>\n",
       "      <td>harda çox sayda hüq…</td>\n",
       "      <td>Undefined</td>\n",
       "    </tr>\n",
       "    <tr>\n",
       "      <th>20013</th>\n",
       "      <td>(t)</td>\n",
       "      <td>Undefined</td>\n",
       "    </tr>\n",
       "  </tbody>\n",
       "</table>\n",
       "<p>231 rows × 2 columns</p>\n",
       "</div>"
      ],
      "text/plain": [
       "                                                 Comment  Sentiment\n",
       "130                           сен онларын чавабыны козле  Undefined\n",
       "140    @seqlb bəs rusiyaya bu qədər lənət deyirsənsə ...  Undefined\n",
       "144                                        bunkerdən çıx  Undefined\n",
       "164    @nigarturan169 hede gerey sosiska yeyesiz gedi...  Undefined\n",
       "241                        yaziğin dili çixdi işlemekdem  Undefined\n",
       "...                                                  ...        ...\n",
       "12834  şənbə e-moizəsini başladı virtual sufi:- özünü...  Undefined\n",
       "12835                                    necə istəyirsən  Undefined\n",
       "12852  şəbiynən mesajlarımızı görsəz elə bil 2 sevgil...  Undefined\n",
       "12862                               harda çox sayda hüq…  Undefined\n",
       "20013                                                (t)  Undefined\n",
       "\n",
       "[231 rows x 2 columns]"
      ]
     },
     "execution_count": 33,
     "metadata": {},
     "output_type": "execute_result"
    }
   ],
   "source": [
    "# Deleting the rows that their sentiment column is --> Undefined, (?),  Undefiend, undefined\n",
    "df.loc[df['Sentiment'].isin(['Undefined', '(?)', 'Undefiend', 'undefined'])]\n",
    "# Totally 301 rows"
   ]
  },
  {
   "cell_type": "code",
   "execution_count": 34,
   "id": "f03eddc0",
   "metadata": {
    "id": "YvhOziGB5--m"
   },
   "outputs": [],
   "source": [
    "# Taking their indexes to delete\n",
    "must_delete = df.loc[df['Sentiment'].isin(['Undefined', '(?)', 'Undefiend', 'undefined', 'ne', 'neh'])].index"
   ]
  },
  {
   "cell_type": "code",
   "execution_count": 35,
   "id": "268e211a",
   "metadata": {
    "id": "U_YGCpuG5--n"
   },
   "outputs": [],
   "source": [
    "df.drop(must_delete, inplace=True)"
   ]
  },
  {
   "cell_type": "code",
   "execution_count": 36,
   "id": "a797fd2b",
   "metadata": {
    "colab": {
     "base_uri": "https://localhost:8080/"
    },
    "id": "MXJoVrzQ5--n",
    "outputId": "e73e91a0-53cd-4288-b112-ad54746ea7b7"
   },
   "outputs": [
    {
     "data": {
      "text/plain": [
       "(45039, 2)"
      ]
     },
     "execution_count": 36,
     "metadata": {},
     "output_type": "execute_result"
    }
   ],
   "source": [
    "df.shape # Deleted 301 rows"
   ]
  },
  {
   "cell_type": "code",
   "execution_count": 37,
   "id": "c1330d5e",
   "metadata": {
    "id": "QTZ2zcRv5--o"
   },
   "outputs": [],
   "source": [
    "df.reset_index(inplace=True, drop=\"True\")"
   ]
  },
  {
   "cell_type": "code",
   "execution_count": 38,
   "id": "d16c05a2",
   "metadata": {
    "colab": {
     "base_uri": "https://localhost:8080/",
     "height": 204
    },
    "id": "PtTOiXZx5--o",
    "outputId": "93bbe84e-8936-4d07-a987-2d6062784403"
   },
   "outputs": [
    {
     "data": {
      "text/html": [
       "<div>\n",
       "<style scoped>\n",
       "    .dataframe tbody tr th:only-of-type {\n",
       "        vertical-align: middle;\n",
       "    }\n",
       "\n",
       "    .dataframe tbody tr th {\n",
       "        vertical-align: top;\n",
       "    }\n",
       "\n",
       "    .dataframe thead th {\n",
       "        text-align: right;\n",
       "    }\n",
       "</style>\n",
       "<table border=\"1\" class=\"dataframe\">\n",
       "  <thead>\n",
       "    <tr style=\"text-align: right;\">\n",
       "      <th></th>\n",
       "      <th>Comment</th>\n",
       "      <th>Sentiment</th>\n",
       "    </tr>\n",
       "  </thead>\n",
       "  <tbody>\n",
       "    <tr>\n",
       "      <th>0</th>\n",
       "      <td>vallah bir ay deyil çəkdiyimiz, 30 dəfə usta g...</td>\n",
       "      <td>Negative</td>\n",
       "    </tr>\n",
       "    <tr>\n",
       "      <th>1</th>\n",
       "      <td>siz nətər insansız neyse 160 manat burnunuzdan...</td>\n",
       "      <td>Negative</td>\n",
       "    </tr>\n",
       "    <tr>\n",
       "      <th>2</th>\n",
       "      <td>hardadi i indi bele saf uwaqlar ve dermanlar</td>\n",
       "      <td>Negative</td>\n",
       "    </tr>\n",
       "    <tr>\n",
       "      <th>3</th>\n",
       "      <td>biz bu gün asif məhərrəmov filialından pendir ...</td>\n",
       "      <td>Negative</td>\n",
       "    </tr>\n",
       "    <tr>\n",
       "      <th>4</th>\n",
       "      <td>maraqlidir</td>\n",
       "      <td>Positive</td>\n",
       "    </tr>\n",
       "  </tbody>\n",
       "</table>\n",
       "</div>"
      ],
      "text/plain": [
       "                                             Comment Sentiment\n",
       "0  vallah bir ay deyil çəkdiyimiz, 30 dəfə usta g...  Negative\n",
       "1  siz nətər insansız neyse 160 manat burnunuzdan...  Negative\n",
       "2       hardadi i indi bele saf uwaqlar ve dermanlar  Negative\n",
       "3  biz bu gün asif məhərrəmov filialından pendir ...  Negative\n",
       "4                                         maraqlidir  Positive"
      ]
     },
     "execution_count": 38,
     "metadata": {},
     "output_type": "execute_result"
    }
   ],
   "source": [
    "df.head()"
   ]
  },
  {
   "cell_type": "code",
   "execution_count": 39,
   "id": "1ea8181e",
   "metadata": {
    "colab": {
     "base_uri": "https://localhost:8080/"
    },
    "id": "GTHFhV4N5--p",
    "outputId": "40a01453-a3c2-49bb-db82-eceab24ea5f6"
   },
   "outputs": [
    {
     "data": {
      "text/plain": [
       "Neutral      26565\n",
       "Negative      9240\n",
       "Positive      8989\n",
       "neutral        154\n",
       "negative        54\n",
       "positive        23\n",
       "Positive         5\n",
       "Postive          4\n",
       " Negative        3\n",
       "Negativ e        1\n",
       " Neg             1\n",
       "Name: Sentiment, dtype: int64"
      ]
     },
     "execution_count": 39,
     "metadata": {},
     "output_type": "execute_result"
    }
   ],
   "source": [
    "df[\"Sentiment\"].value_counts()"
   ]
  },
  {
   "cell_type": "code",
   "execution_count": 40,
   "id": "6f587626",
   "metadata": {
    "colab": {
     "base_uri": "https://localhost:8080/"
    },
    "id": "7B4o-wZ85--p",
    "outputId": "cb464db8-5693-435f-fd3d-3e5cd14ef848"
   },
   "outputs": [
    {
     "data": {
      "text/plain": [
       "array(['Negative', 'Positive', 'Neutral', ' Negative', 'neutral',\n",
       "       'Negativ e', 'negative', ' Neg', 'positive', 'Positive ',\n",
       "       'Postive'], dtype=object)"
      ]
     },
     "execution_count": 40,
     "metadata": {},
     "output_type": "execute_result"
    }
   ],
   "source": [
    "df[\"Sentiment\"].unique()"
   ]
  },
  {
   "cell_type": "code",
   "execution_count": 41,
   "id": "08463cdb",
   "metadata": {
    "colab": {
     "base_uri": "https://localhost:8080/",
     "height": 1000
    },
    "id": "0t3VmmjN5--q",
    "outputId": "dc6d97f0-124a-4b0a-958f-6a75e34ab47e"
   },
   "outputs": [
    {
     "data": {
      "text/html": [
       "<div>\n",
       "<style scoped>\n",
       "    .dataframe tbody tr th:only-of-type {\n",
       "        vertical-align: middle;\n",
       "    }\n",
       "\n",
       "    .dataframe tbody tr th {\n",
       "        vertical-align: top;\n",
       "    }\n",
       "\n",
       "    .dataframe thead th {\n",
       "        text-align: right;\n",
       "    }\n",
       "</style>\n",
       "<table border=\"1\" class=\"dataframe\">\n",
       "  <thead>\n",
       "    <tr style=\"text-align: right;\">\n",
       "      <th></th>\n",
       "      <th>Comment</th>\n",
       "      <th>Sentiment</th>\n",
       "    </tr>\n",
       "  </thead>\n",
       "  <tbody>\n",
       "    <tr>\n",
       "      <th>590</th>\n",
       "      <td>😥</td>\n",
       "      <td>Negative</td>\n",
       "    </tr>\n",
       "    <tr>\n",
       "      <th>2825</th>\n",
       "      <td>gözlərivi yox gözlərini olmalidi</td>\n",
       "      <td>Negativ e</td>\n",
       "    </tr>\n",
       "    <tr>\n",
       "      <th>2962</th>\n",
       "      <td>simnar xanın allah cəsasını versin🤬😠😡😤😈</td>\n",
       "      <td>negative</td>\n",
       "    </tr>\n",
       "    <tr>\n",
       "      <th>2984</th>\n",
       "      <td>bacarırlar belə kinolar çəksinlər ey neçə illə...</td>\n",
       "      <td>negative</td>\n",
       "    </tr>\n",
       "    <tr>\n",
       "      <th>3013</th>\n",
       "      <td>insanin hovselesi catmir qulaq asmaga</td>\n",
       "      <td>negative</td>\n",
       "    </tr>\n",
       "    <tr>\n",
       "      <th>3016</th>\n",
       "      <td>bir sözü 50 defe deme ne olar</td>\n",
       "      <td>negative</td>\n",
       "    </tr>\n",
       "    <tr>\n",
       "      <th>3017</th>\n",
       "      <td>men etim unu ölçusunu sef deyir</td>\n",
       "      <td>negative</td>\n",
       "    </tr>\n",
       "    <tr>\n",
       "      <th>3064</th>\n",
       "      <td>her shey yaxshidi ,amma chox danishmaq 0 !!! y...</td>\n",
       "      <td>negative</td>\n",
       "    </tr>\n",
       "    <tr>\n",
       "      <th>3065</th>\n",
       "      <td>ses adami bezdirir</td>\n",
       "      <td>negative</td>\n",
       "    </tr>\n",
       "    <tr>\n",
       "      <th>3107</th>\n",
       "      <td>ağzını çox marcildadir hövsələm çatmadı baxmağ...</td>\n",
       "      <td>negative</td>\n",
       "    </tr>\n",
       "    <tr>\n",
       "      <th>3161</th>\n",
       "      <td>😭😭🥺🥺🥺🥲</td>\n",
       "      <td>negative</td>\n",
       "    </tr>\n",
       "    <tr>\n",
       "      <th>3170</th>\n",
       "      <td>eşşey</td>\n",
       "      <td>negative</td>\n",
       "    </tr>\n",
       "    <tr>\n",
       "      <th>3175</th>\n",
       "      <td>aheng qanunu tamamile sehv başa saldız dexli y...</td>\n",
       "      <td>negative</td>\n",
       "    </tr>\n",
       "    <tr>\n",
       "      <th>3201</th>\n",
       "      <td>e,ə,o,ö), qapalı sait hərflərin isə üstü açıq ...</td>\n",
       "      <td>negative</td>\n",
       "    </tr>\n",
       "    <tr>\n",
       "      <th>3202</th>\n",
       "      <td>məs: ı,i,u,ü</td>\n",
       "      <td>negative</td>\n",
       "    </tr>\n",
       "    <tr>\n",
       "      <th>3204</th>\n",
       "      <td>çox yorucu, uzun danışır</td>\n",
       "      <td>negative</td>\n",
       "    </tr>\n",
       "    <tr>\n",
       "      <th>3224</th>\n",
       "      <td>amma orfoepiya normalarından danışıb, özünüz b...</td>\n",
       "      <td>negative</td>\n",
       "    </tr>\n",
       "    <tr>\n",
       "      <th>3242</th>\n",
       "      <td>pis, yaxshi deyil</td>\n",
       "      <td>negative</td>\n",
       "    </tr>\n",
       "    <tr>\n",
       "      <th>3253</th>\n",
       "      <td>bu yalnış</td>\n",
       "      <td>negative</td>\n",
       "    </tr>\n",
       "    <tr>\n",
       "      <th>3270</th>\n",
       "      <td>hech beyenmedim</td>\n",
       "      <td>negative</td>\n",
       "    </tr>\n",
       "    <tr>\n",
       "      <th>4980</th>\n",
       "      <td>gündən günə dəyişir həyat birdən birə yerə düş...</td>\n",
       "      <td>Neg</td>\n",
       "    </tr>\n",
       "    <tr>\n",
       "      <th>5596</th>\n",
       "      <td>olen adama sevinmezler ama yaxwiki imran oldu ...</td>\n",
       "      <td>negative</td>\n",
       "    </tr>\n",
       "    <tr>\n",
       "      <th>12169</th>\n",
       "      <td>boyu 155 olduğu üçün çətinlik çəkir</td>\n",
       "      <td>Negative</td>\n",
       "    </tr>\n",
       "    <tr>\n",
       "      <th>13047</th>\n",
       "      <td>gözlə dəyər verdiyim insanların xətrinə dəyim ...</td>\n",
       "      <td>negative</td>\n",
       "    </tr>\n",
       "    <tr>\n",
       "      <th>13089</th>\n",
       "      <td>arvadı trampdan küsüb?</td>\n",
       "      <td>negative</td>\n",
       "    </tr>\n",
       "    <tr>\n",
       "      <th>13101</th>\n",
       "      <td>bilirəm, gedənlə ölünməz amma qalanlarla da ya...</td>\n",
       "      <td>negative</td>\n",
       "    </tr>\n",
       "    <tr>\n",
       "      <th>13104</th>\n",
       "      <td>i̇nstada nə qədər mənasız səhifə varsa məni ta...</td>\n",
       "      <td>negative</td>\n",
       "    </tr>\n",
       "    <tr>\n",
       "      <th>13105</th>\n",
       "      <td>ucarda iki uşaq atası özünü asdı</td>\n",
       "      <td>negative</td>\n",
       "    </tr>\n",
       "    <tr>\n",
       "      <th>13106</th>\n",
       "      <td>kimyaçılar gələcək nəsilə pis örnək olub</td>\n",
       "      <td>negative</td>\n",
       "    </tr>\n",
       "    <tr>\n",
       "      <th>13107</th>\n",
       "      <td>qəşəng siqaret çəkirsən</td>\n",
       "      <td>negative</td>\n",
       "    </tr>\n",
       "    <tr>\n",
       "      <th>13141</th>\n",
       "      <td>azerbaycan'da qabağa getmeyin yolları :1) pulu...</td>\n",
       "      <td>negative</td>\n",
       "    </tr>\n",
       "    <tr>\n",
       "      <th>13145</th>\n",
       "      <td>millət şəhəri yandirir</td>\n",
       "      <td>negative</td>\n",
       "    </tr>\n",
       "    <tr>\n",
       "      <th>13149</th>\n",
       "      <td>adama dəli cəsarəti lazımdı hərdən))</td>\n",
       "      <td>negative</td>\n",
       "    </tr>\n",
       "    <tr>\n",
       "      <th>13185</th>\n",
       "      <td>)- ay mən sənin</td>\n",
       "      <td>negative</td>\n",
       "    </tr>\n",
       "    <tr>\n",
       "      <th>13188</th>\n",
       "      <td>bakı deyəndə ilk ağla gələn dəli küləyi ikinci...</td>\n",
       "      <td>negative</td>\n",
       "    </tr>\n",
       "    <tr>\n",
       "      <th>13189</th>\n",
       "      <td>ömrümü yediiiiiiz lan</td>\n",
       "      <td>negative</td>\n",
       "    </tr>\n",
       "    <tr>\n",
       "      <th>13194</th>\n",
       "      <td>pes diyorum</td>\n",
       "      <td>negative</td>\n",
       "    </tr>\n",
       "    <tr>\n",
       "      <th>13195</th>\n",
       "      <td>asqırmaq istəyib asqıra bilmirsən ha, bax o dü...</td>\n",
       "      <td>negative</td>\n",
       "    </tr>\n",
       "    <tr>\n",
       "      <th>13199</th>\n",
       "      <td>əli kərimli: ətraf ölkələrin heç birində müxal...</td>\n",
       "      <td>negative</td>\n",
       "    </tr>\n",
       "    <tr>\n",
       "      <th>13200</th>\n",
       "      <td>abş-da atışma olub, 5 nəfər ölüb</td>\n",
       "      <td>negative</td>\n",
       "    </tr>\n",
       "    <tr>\n",
       "      <th>13204</th>\n",
       "      <td>dişimdəki assimetriklik məni saniyəbəsaniyə na...</td>\n",
       "      <td>negative</td>\n",
       "    </tr>\n",
       "    <tr>\n",
       "      <th>13207</th>\n",
       "      <td>navalnı moskvada keçirilən etiraz aksiyasında ...</td>\n",
       "      <td>negative</td>\n",
       "    </tr>\n",
       "    <tr>\n",
       "      <th>13252</th>\n",
       "      <td>dilə gəlməyən hüzn yüklənər qəlbə və qırar onu</td>\n",
       "      <td>negative</td>\n",
       "    </tr>\n",
       "    <tr>\n",
       "      <th>13257</th>\n",
       "      <td>bizimkilərin əvəz olunmaz xarakteridi də insan...</td>\n",
       "      <td>negative</td>\n",
       "    </tr>\n",
       "    <tr>\n",
       "      <th>13291</th>\n",
       "      <td>aykut yenə özünü buraxıb</td>\n",
       "      <td>negative</td>\n",
       "    </tr>\n",
       "    <tr>\n",
       "      <th>13300</th>\n",
       "      <td>hasan ali öz yerində oynaya bilmir, soxub orta...</td>\n",
       "      <td>negative</td>\n",
       "    </tr>\n",
       "    <tr>\n",
       "      <th>13301</th>\n",
       "      <td>dəli olacaaammm</td>\n",
       "      <td>negative</td>\n",
       "    </tr>\n",
       "    <tr>\n",
       "      <th>13302</th>\n",
       "      <td>bu reallıqdır 😑</td>\n",
       "      <td>negative</td>\n",
       "    </tr>\n",
       "    <tr>\n",
       "      <th>13304</th>\n",
       "      <td>aykut kocaman valbuenayı aziz yıldırım ali koç...</td>\n",
       "      <td>negative</td>\n",
       "    </tr>\n",
       "    <tr>\n",
       "      <th>13309</th>\n",
       "      <td>allah belasını  qalıb ali koçlu,ersunlu,alexli...</td>\n",
       "      <td>negative</td>\n",
       "    </tr>\n",
       "    <tr>\n",
       "      <th>13310</th>\n",
       "      <td>biri aykuta soxsun da</td>\n",
       "      <td>negative</td>\n",
       "    </tr>\n",
       "    <tr>\n",
       "      <th>13311</th>\n",
       "      <td>qaqaş padxodda master edib di gəl ki, deyir  p...</td>\n",
       "      <td>negative</td>\n",
       "    </tr>\n",
       "    <tr>\n",
       "      <th>20803</th>\n",
       "      <td>seni çeynemeden uda bilen birini,dişlemeye çal...</td>\n",
       "      <td>negative</td>\n",
       "    </tr>\n",
       "    <tr>\n",
       "      <th>21699</th>\n",
       "      <td>uber kim köpek?</td>\n",
       "      <td>negative</td>\n",
       "    </tr>\n",
       "    <tr>\n",
       "      <th>22100</th>\n",
       "      <td>mehlede qadinlar dedi esitdim, men sensiz cox ...</td>\n",
       "      <td>negative</td>\n",
       "    </tr>\n",
       "    <tr>\n",
       "      <th>22500</th>\n",
       "      <td>xorvatların da yox imiş</td>\n",
       "      <td>negative</td>\n",
       "    </tr>\n",
       "    <tr>\n",
       "      <th>22501</th>\n",
       "      <td>ağlıya-ağlıya -_-</td>\n",
       "      <td>negative</td>\n",
       "    </tr>\n",
       "    <tr>\n",
       "      <th>23624</th>\n",
       "      <td>10 il e,ilahi :d</td>\n",
       "      <td>negative</td>\n",
       "    </tr>\n",
       "    <tr>\n",
       "      <th>23994</th>\n",
       "      <td>amma satıcı üzü görmürsən</td>\n",
       "      <td>Negative</td>\n",
       "    </tr>\n",
       "  </tbody>\n",
       "</table>\n",
       "</div>"
      ],
      "text/plain": [
       "                                                 Comment  Sentiment\n",
       "590                                                    😥   Negative\n",
       "2825                    gözlərivi yox gözlərini olmalidi  Negativ e\n",
       "2962             simnar xanın allah cəsasını versin🤬😠😡😤😈   negative\n",
       "2984   bacarırlar belə kinolar çəksinlər ey neçə illə...   negative\n",
       "3013               insanin hovselesi catmir qulaq asmaga   negative\n",
       "3016                       bir sözü 50 defe deme ne olar   negative\n",
       "3017                     men etim unu ölçusunu sef deyir   negative\n",
       "3064   her shey yaxshidi ,amma chox danishmaq 0 !!! y...   negative\n",
       "3065                                  ses adami bezdirir   negative\n",
       "3107   ağzını çox marcildadir hövsələm çatmadı baxmağ...   negative\n",
       "3161                                              😭😭🥺🥺🥺🥲   negative\n",
       "3170                                               eşşey   negative\n",
       "3175   aheng qanunu tamamile sehv başa saldız dexli y...   negative\n",
       "3201   e,ə,o,ö), qapalı sait hərflərin isə üstü açıq ...   negative\n",
       "3202                                        məs: ı,i,u,ü   negative\n",
       "3204                            çox yorucu, uzun danışır   negative\n",
       "3224   amma orfoepiya normalarından danışıb, özünüz b...   negative\n",
       "3242                                   pis, yaxshi deyil   negative\n",
       "3253                                           bu yalnış   negative\n",
       "3270                                     hech beyenmedim   negative\n",
       "4980   gündən günə dəyişir həyat birdən birə yerə düş...        Neg\n",
       "5596   olen adama sevinmezler ama yaxwiki imran oldu ...   negative\n",
       "12169                boyu 155 olduğu üçün çətinlik çəkir   Negative\n",
       "13047  gözlə dəyər verdiyim insanların xətrinə dəyim ...   negative\n",
       "13089                             arvadı trampdan küsüb?   negative\n",
       "13101  bilirəm, gedənlə ölünməz amma qalanlarla da ya...   negative\n",
       "13104  i̇nstada nə qədər mənasız səhifə varsa məni ta...   negative\n",
       "13105                   ucarda iki uşaq atası özünü asdı   negative\n",
       "13106           kimyaçılar gələcək nəsilə pis örnək olub   negative\n",
       "13107                            qəşəng siqaret çəkirsən   negative\n",
       "13141  azerbaycan'da qabağa getmeyin yolları :1) pulu...   negative\n",
       "13145                             millət şəhəri yandirir   negative\n",
       "13149               adama dəli cəsarəti lazımdı hərdən))   negative\n",
       "13185                                    )- ay mən sənin   negative\n",
       "13188  bakı deyəndə ilk ağla gələn dəli küləyi ikinci...   negative\n",
       "13189                              ömrümü yediiiiiiz lan   negative\n",
       "13194                                        pes diyorum   negative\n",
       "13195  asqırmaq istəyib asqıra bilmirsən ha, bax o dü...   negative\n",
       "13199  əli kərimli: ətraf ölkələrin heç birində müxal...   negative\n",
       "13200                   abş-da atışma olub, 5 nəfər ölüb   negative\n",
       "13204  dişimdəki assimetriklik məni saniyəbəsaniyə na...   negative\n",
       "13207  navalnı moskvada keçirilən etiraz aksiyasında ...   negative\n",
       "13252     dilə gəlməyən hüzn yüklənər qəlbə və qırar onu   negative\n",
       "13257  bizimkilərin əvəz olunmaz xarakteridi də insan...   negative\n",
       "13291                           aykut yenə özünü buraxıb   negative\n",
       "13300  hasan ali öz yerində oynaya bilmir, soxub orta...   negative\n",
       "13301                                    dəli olacaaammm   negative\n",
       "13302                                    bu reallıqdır 😑   negative\n",
       "13304  aykut kocaman valbuenayı aziz yıldırım ali koç...   negative\n",
       "13309  allah belasını  qalıb ali koçlu,ersunlu,alexli...   negative\n",
       "13310                              biri aykuta soxsun da   negative\n",
       "13311  qaqaş padxodda master edib di gəl ki, deyir  p...   negative\n",
       "20803  seni çeynemeden uda bilen birini,dişlemeye çal...   negative\n",
       "21699                                    uber kim köpek?   negative\n",
       "22100  mehlede qadinlar dedi esitdim, men sensiz cox ...   negative\n",
       "22500                            xorvatların da yox imiş   negative\n",
       "22501                                  ağlıya-ağlıya -_-   negative\n",
       "23624                                   10 il e,ilahi :d   negative\n",
       "23994                          amma satıcı üzü görmürsən   Negative"
      ]
     },
     "execution_count": 41,
     "metadata": {},
     "output_type": "execute_result"
    }
   ],
   "source": [
    "# Changing negative, Neg, Negativ e to Negative\n",
    "df.loc[df['Sentiment'].isin(['Negativ e', ' Negative', 'negative', ' Neg'])]"
   ]
  },
  {
   "cell_type": "code",
   "execution_count": 42,
   "id": "ba593149",
   "metadata": {
    "id": "c6q3EFt_5--q"
   },
   "outputs": [],
   "source": [
    "df[\"Sentiment\"] = df[\"Sentiment\"].replace(['Negativ e', ' Negative', 'negative', ' Neg'], \"Negative\")"
   ]
  },
  {
   "cell_type": "code",
   "execution_count": 43,
   "id": "67da5ecf",
   "metadata": {
    "colab": {
     "base_uri": "https://localhost:8080/"
    },
    "id": "lnFnmVnA5--q",
    "outputId": "30d2c7ff-7430-4e46-d038-0f981a3c0834"
   },
   "outputs": [
    {
     "data": {
      "text/plain": [
       "Neutral      26565\n",
       "Negative      9299\n",
       "Positive      8989\n",
       "neutral        154\n",
       "positive        23\n",
       "Positive         5\n",
       "Postive          4\n",
       "Name: Sentiment, dtype: int64"
      ]
     },
     "execution_count": 43,
     "metadata": {},
     "output_type": "execute_result"
    }
   ],
   "source": [
    "df[\"Sentiment\"].value_counts()"
   ]
  },
  {
   "cell_type": "code",
   "execution_count": 44,
   "id": "8b67f2c1",
   "metadata": {
    "colab": {
     "base_uri": "https://localhost:8080/"
    },
    "id": "erAAVlCi5--r",
    "outputId": "23351272-f81d-48f8-a689-9ee45fca3d7f"
   },
   "outputs": [
    {
     "data": {
      "text/plain": [
       "array(['Negative', 'Positive', 'Neutral', 'neutral', 'positive',\n",
       "       'Positive ', 'Postive'], dtype=object)"
      ]
     },
     "execution_count": 44,
     "metadata": {},
     "output_type": "execute_result"
    }
   ],
   "source": [
    "df[\"Sentiment\"].unique()"
   ]
  },
  {
   "cell_type": "code",
   "execution_count": 45,
   "id": "d05e78ce",
   "metadata": {
    "id": "BSru_Col5--r"
   },
   "outputs": [],
   "source": [
    "df[\"Sentiment\"] = df[\"Sentiment\"].replace(['neutral', ' Neutral', 'Neutal'], 'Neutral')"
   ]
  },
  {
   "cell_type": "code",
   "execution_count": 46,
   "id": "1c300c6a",
   "metadata": {
    "colab": {
     "base_uri": "https://localhost:8080/"
    },
    "id": "3yH4jwyW5--t",
    "outputId": "a8d40928-ccb8-4954-e209-96550ec35b38"
   },
   "outputs": [
    {
     "data": {
      "text/plain": [
       "Neutral      26719\n",
       "Negative      9299\n",
       "Positive      8989\n",
       "positive        23\n",
       "Positive         5\n",
       "Postive          4\n",
       "Name: Sentiment, dtype: int64"
      ]
     },
     "execution_count": 46,
     "metadata": {},
     "output_type": "execute_result"
    }
   ],
   "source": [
    "df[\"Sentiment\"].value_counts()"
   ]
  },
  {
   "cell_type": "code",
   "execution_count": 47,
   "id": "38a96f79",
   "metadata": {
    "colab": {
     "base_uri": "https://localhost:8080/"
    },
    "id": "TkltLP8K5--t",
    "outputId": "ce95a7db-30c2-4e41-b2a6-b1363bf00367"
   },
   "outputs": [
    {
     "data": {
      "text/plain": [
       "array(['Negative', 'Positive', 'Neutral', 'positive', 'Positive ',\n",
       "       'Postive'], dtype=object)"
      ]
     },
     "execution_count": 47,
     "metadata": {},
     "output_type": "execute_result"
    }
   ],
   "source": [
    "df[\"Sentiment\"].unique()"
   ]
  },
  {
   "cell_type": "code",
   "execution_count": 48,
   "id": "be5bd1bc",
   "metadata": {
    "id": "8-yLw6ZU5--t"
   },
   "outputs": [],
   "source": [
    "df[\"Sentiment\"] = df[\"Sentiment\"].replace(['positive', 'Positive ', 'Postive'], 'Positive')"
   ]
  },
  {
   "cell_type": "code",
   "execution_count": 49,
   "id": "fbe162ba",
   "metadata": {
    "colab": {
     "base_uri": "https://localhost:8080/"
    },
    "id": "n0mYZ1BU5--u",
    "outputId": "3120d748-2e95-4386-c872-d67ecc6d9eb3"
   },
   "outputs": [
    {
     "data": {
      "text/plain": [
       "Neutral     26719\n",
       "Negative     9299\n",
       "Positive     9021\n",
       "Name: Sentiment, dtype: int64"
      ]
     },
     "execution_count": 49,
     "metadata": {},
     "output_type": "execute_result"
    }
   ],
   "source": [
    "df[\"Sentiment\"].value_counts() # Now you have 3 sentiments"
   ]
  },
  {
   "cell_type": "code",
   "execution_count": 50,
   "id": "6c03e4af",
   "metadata": {
    "colab": {
     "base_uri": "https://localhost:8080/",
     "height": 279
    },
    "id": "yxxwm7aA5--u",
    "outputId": "02646f2e-745d-410f-8355-90e7fd77dd65"
   },
   "outputs": [
    {
     "data": {
      "image/png": "[encoded data removed]",
      "text/plain": [
       "<Figure size 640x480 with 1 Axes>"
      ]
     },
     "metadata": {},
     "output_type": "display_data"
    }
   ],
   "source": [
    "sns.countplot(x = \"Sentiment\", data = df); # General distribution"
   ]
  },
  {
   "cell_type": "code",
   "execution_count": 51,
   "id": "503cf5c6",
   "metadata": {
    "id": "fL17IrAZ5--1"
   },
   "outputs": [],
   "source": [
    "df.reset_index(inplace=True, drop=True)"
   ]
  },
  {
   "cell_type": "markdown",
   "id": "b5a5e950",
   "metadata": {
    "id": "HxHShJqG5--2"
   },
   "source": [
    "# Modeling"
   ]
  },
  {
   "cell_type": "code",
   "execution_count": 52,
   "id": "0e6f3ed2",
   "metadata": {
    "colab": {
     "base_uri": "https://localhost:8080/"
    },
    "id": "uH9ocqhy5--2",
    "outputId": "34037be6-991d-4bb8-92c1-3c574e571962"
   },
   "outputs": [
    {
     "data": {
      "text/plain": [
       "Neutral     26719\n",
       "Negative     9299\n",
       "Positive     9021\n",
       "Name: Sentiment, dtype: int64"
      ]
     },
     "execution_count": 52,
     "metadata": {},
     "output_type": "execute_result"
    }
   ],
   "source": [
    "df[\"Sentiment\"].value_counts() # Now you have 3 labels in df"
   ]
  },
  {
   "cell_type": "code",
   "execution_count": 53,
   "id": "a8f052dd",
   "metadata": {
    "colab": {
     "base_uri": "https://localhost:8080/",
     "height": 279
    },
    "id": "UoWsSfsl5--3",
    "outputId": "7f05980d-58df-47a3-e57b-849ab3a7e601"
   },
   "outputs": [
    {
     "data": {
      "image/png": "[encoded data removed]",
      "text/plain": [
       "<Figure size 640x480 with 1 Axes>"
      ]
     },
     "metadata": {},
     "output_type": "display_data"
    }
   ],
   "source": [
    "sns.countplot(x = \"Sentiment\", data = df); # A bit unbalance it is better to make balanced"
   ]
  },
  {
   "cell_type": "markdown",
   "id": "95209c6a",
   "metadata": {},
   "source": [
    "# Text Pre-Processing\n",
    "* Steps\n",
    "    * 1. Lower Casing : Convert all words into the lower case because the upper or lower case may not make a difference for the problem. And we are reducing vocabulary size by doing so.\n",
    "    * 2. Tokenization : NLP software typically analyzes text by breaking it up into words (tokens) and sentences.\n",
    "    * 3.  Stemming : Stemming refers to the process of removing suffixes and reducing a word to some base form such that all different variants of that word can be represented by the same form (e.g., “walk” and “walking” are both reduced to “walk”).\n",
    "    \n"
   ]
  },
  {
   "cell_type": "code",
   "execution_count": 54,
   "id": "06eb0f9d",
   "metadata": {
    "colab": {
     "base_uri": "https://localhost:8080/",
     "height": 204
    },
    "id": "KqRCAwqf5--3",
    "outputId": "32119acf-d021-4dbd-cea9-434ba30ace20"
   },
   "outputs": [
    {
     "data": {
      "text/html": [
       "<div>\n",
       "<style scoped>\n",
       "    .dataframe tbody tr th:only-of-type {\n",
       "        vertical-align: middle;\n",
       "    }\n",
       "\n",
       "    .dataframe tbody tr th {\n",
       "        vertical-align: top;\n",
       "    }\n",
       "\n",
       "    .dataframe thead th {\n",
       "        text-align: right;\n",
       "    }\n",
       "</style>\n",
       "<table border=\"1\" class=\"dataframe\">\n",
       "  <thead>\n",
       "    <tr style=\"text-align: right;\">\n",
       "      <th></th>\n",
       "      <th>Comment</th>\n",
       "      <th>Sentiment</th>\n",
       "    </tr>\n",
       "  </thead>\n",
       "  <tbody>\n",
       "    <tr>\n",
       "      <th>0</th>\n",
       "      <td>vallah bir ay deyil çəkdiyimiz, 30 dəfə usta g...</td>\n",
       "      <td>Negative</td>\n",
       "    </tr>\n",
       "    <tr>\n",
       "      <th>1</th>\n",
       "      <td>siz nətər insansız neyse 160 manat burnunuzdan...</td>\n",
       "      <td>Negative</td>\n",
       "    </tr>\n",
       "    <tr>\n",
       "      <th>2</th>\n",
       "      <td>hardadi i indi bele saf uwaqlar ve dermanlar</td>\n",
       "      <td>Negative</td>\n",
       "    </tr>\n",
       "    <tr>\n",
       "      <th>3</th>\n",
       "      <td>biz bu gün asif məhərrəmov filialından pendir ...</td>\n",
       "      <td>Negative</td>\n",
       "    </tr>\n",
       "    <tr>\n",
       "      <th>4</th>\n",
       "      <td>maraqlidir</td>\n",
       "      <td>Positive</td>\n",
       "    </tr>\n",
       "  </tbody>\n",
       "</table>\n",
       "</div>"
      ],
      "text/plain": [
       "                                             Comment Sentiment\n",
       "0  vallah bir ay deyil çəkdiyimiz, 30 dəfə usta g...  Negative\n",
       "1  siz nətər insansız neyse 160 manat burnunuzdan...  Negative\n",
       "2       hardadi i indi bele saf uwaqlar ve dermanlar  Negative\n",
       "3  biz bu gün asif məhərrəmov filialından pendir ...  Negative\n",
       "4                                         maraqlidir  Positive"
      ]
     },
     "execution_count": 54,
     "metadata": {},
     "output_type": "execute_result"
    }
   ],
   "source": [
    "# Lowercasing all the texts\n",
    "df.head()"
   ]
  },
  {
   "cell_type": "code",
   "execution_count": 55,
   "id": "7c5cab5d",
   "metadata": {
    "id": "2sxqigC25--4"
   },
   "outputs": [],
   "source": [
    "df[\"Comment\"] = df['Comment'].str.replace(\"I\", \"ı\").replace(\"İ\", \"i\") # will be done for other letters \n",
    "df[\"Comment\"] = df['Comment'].str.lower()"
   ]
  },
  {
   "cell_type": "code",
   "execution_count": 56,
   "id": "7e9397b6",
   "metadata": {
    "colab": {
     "base_uri": "https://localhost:8080/",
     "height": 204
    },
    "id": "ZS_cPnai5--4",
    "outputId": "e883fa2c-a1a6-4779-c53b-22fc8f7fa142"
   },
   "outputs": [
    {
     "data": {
      "text/html": [
       "<div>\n",
       "<style scoped>\n",
       "    .dataframe tbody tr th:only-of-type {\n",
       "        vertical-align: middle;\n",
       "    }\n",
       "\n",
       "    .dataframe tbody tr th {\n",
       "        vertical-align: top;\n",
       "    }\n",
       "\n",
       "    .dataframe thead th {\n",
       "        text-align: right;\n",
       "    }\n",
       "</style>\n",
       "<table border=\"1\" class=\"dataframe\">\n",
       "  <thead>\n",
       "    <tr style=\"text-align: right;\">\n",
       "      <th></th>\n",
       "      <th>Comment</th>\n",
       "      <th>Sentiment</th>\n",
       "    </tr>\n",
       "  </thead>\n",
       "  <tbody>\n",
       "    <tr>\n",
       "      <th>0</th>\n",
       "      <td>vallah bir ay deyil çəkdiyimiz, 30 dəfə usta g...</td>\n",
       "      <td>Negative</td>\n",
       "    </tr>\n",
       "    <tr>\n",
       "      <th>1</th>\n",
       "      <td>siz nətər insansız neyse 160 manat burnunuzdan...</td>\n",
       "      <td>Negative</td>\n",
       "    </tr>\n",
       "    <tr>\n",
       "      <th>2</th>\n",
       "      <td>hardadi i indi bele saf uwaqlar ve dermanlar</td>\n",
       "      <td>Negative</td>\n",
       "    </tr>\n",
       "    <tr>\n",
       "      <th>3</th>\n",
       "      <td>biz bu gün asif məhərrəmov filialından pendir ...</td>\n",
       "      <td>Negative</td>\n",
       "    </tr>\n",
       "    <tr>\n",
       "      <th>4</th>\n",
       "      <td>maraqlidir</td>\n",
       "      <td>Positive</td>\n",
       "    </tr>\n",
       "  </tbody>\n",
       "</table>\n",
       "</div>"
      ],
      "text/plain": [
       "                                             Comment Sentiment\n",
       "0  vallah bir ay deyil çəkdiyimiz, 30 dəfə usta g...  Negative\n",
       "1  siz nətər insansız neyse 160 manat burnunuzdan...  Negative\n",
       "2       hardadi i indi bele saf uwaqlar ve dermanlar  Negative\n",
       "3  biz bu gün asif məhərrəmov filialından pendir ...  Negative\n",
       "4                                         maraqlidir  Positive"
      ]
     },
     "execution_count": 56,
     "metadata": {},
     "output_type": "execute_result"
    }
   ],
   "source": [
    "df.head(5) # Lowercased"
   ]
  },
  {
   "cell_type": "code",
   "execution_count": 57,
   "id": "b41ca70d",
   "metadata": {
    "id": "Qc-ZH65v5--4"
   },
   "outputs": [],
   "source": [
    "# Tokenization\n",
    "def tokenize_sentence_into_words(string):\n",
    "    str_SEN = \"\"\n",
    "    str_ = \"\"\n",
    "    string = string.strip()\n",
    "    len_str = len(string)\n",
    "    string += ' '\n",
    "    char_index = -1\n",
    "    for char in string:\n",
    "        char_index += 1\n",
    "        dot_sep = (char == \".\" and char_index != len_str - 1)\n",
    "\n",
    "        if char.isnumeric() or char.isalpha() or char == \"-\" or char == \"–\" or dot_sep:\n",
    "\n",
    "            str_ += char\n",
    "\n",
    "        else:\n",
    "            if str_ != \"\":\n",
    "                str_SEN += str_ + \" \"\n",
    "                str_ = \"\"\n",
    "            if char != \" \":\n",
    "                str_SEN += char + \" \"\n",
    "    final_str = \"\"\n",
    "    for word in str_SEN.strip().split():\n",
    "        final_str += word.strip(\",.\") + \" \"\n",
    "    return \" \".join(final_str.strip().split())"
   ]
  },
  {
   "cell_type": "code",
   "execution_count": 58,
   "id": "1b460249",
   "metadata": {},
   "outputs": [],
   "source": [
    "import string"
   ]
  },
  {
   "cell_type": "code",
   "execution_count": 59,
   "id": "7dd4aeed",
   "metadata": {},
   "outputs": [
    {
     "data": {
      "text/plain": [
       "'!\"#$%&\\'()*+,-./:;<=>?@[\\\\]^_`{|}~'"
      ]
     },
     "execution_count": 59,
     "metadata": {},
     "output_type": "execute_result"
    }
   ],
   "source": [
    "string.punctuation"
   ]
  },
  {
   "cell_type": "code",
   "execution_count": 60,
   "id": "5c702599",
   "metadata": {},
   "outputs": [],
   "source": [
    "translator=str.maketrans('','',string.punctuation)\n",
    "df[\"Comment\"]=df[\"Comment\"].str.translate(translator)\n"
   ]
  },
  {
   "cell_type": "code",
   "execution_count": 61,
   "id": "371d8981",
   "metadata": {},
   "outputs": [
    {
     "data": {
      "text/plain": [
       "0        vallah bir ay deyil çəkdiyimiz 30 dəfə usta gə...\n",
       "1        siz nətər insansız neyse 160 manat burnunuzdan...\n",
       "2             hardadi i indi bele saf uwaqlar ve dermanlar\n",
       "3        biz bu gün asif məhərrəmov filialından pendir ...\n",
       "4                                               maraqlidir\n",
       "                               ...                        \n",
       "45034                      qəşəng söyərdim bunu yeri deyil\n",
       "45035                                            mədəni ol\n",
       "45036    filmlər o qədər möhtəşəm şeylərdir ki tarix ye...\n",
       "45037                mənə niyə telefonu cevirttirdinnnn dd\n",
       "45038    yaxşı muğam oxuyan ola oturasan böyründə qulaq...\n",
       "Name: Comment, Length: 45039, dtype: object"
      ]
     },
     "execution_count": 61,
     "metadata": {},
     "output_type": "execute_result"
    }
   ],
   "source": [
    "df[\"Comment\"]"
   ]
  },
  {
   "cell_type": "code",
   "execution_count": null,
   "id": "f3b26304",
   "metadata": {},
   "outputs": [],
   "source": []
  },
  {
   "cell_type": "code",
   "execution_count": 62,
   "id": "2936d72d",
   "metadata": {
    "id": "YRSI1ykl5--5"
   },
   "outputs": [],
   "source": [
    "df.reset_index(inplace=True, drop=True)"
   ]
  },
  {
   "cell_type": "code",
   "execution_count": 63,
   "id": "1976cdbb",
   "metadata": {
    "id": "_Al-t1EG5--6"
   },
   "outputs": [],
   "source": [
    "for i in range(df.shape[0]):\n",
    "    if df[\"Comment\"][i] != str(df[\"Comment\"][i]):\n",
    "        continue\n",
    "    df.at[i, \"Comment\"] = tokenize_sentence_into_words(df[\"Comment\"][i])\n"
   ]
  },
  {
   "cell_type": "code",
   "execution_count": 64,
   "id": "6cacb88d",
   "metadata": {
    "colab": {
     "base_uri": "https://localhost:8080/",
     "height": 204
    },
    "id": "lsbhQl7-5--6",
    "outputId": "f35bcdb8-487d-4fa1-8072-b2bc70527341"
   },
   "outputs": [
    {
     "data": {
      "text/html": [
       "<div>\n",
       "<style scoped>\n",
       "    .dataframe tbody tr th:only-of-type {\n",
       "        vertical-align: middle;\n",
       "    }\n",
       "\n",
       "    .dataframe tbody tr th {\n",
       "        vertical-align: top;\n",
       "    }\n",
       "\n",
       "    .dataframe thead th {\n",
       "        text-align: right;\n",
       "    }\n",
       "</style>\n",
       "<table border=\"1\" class=\"dataframe\">\n",
       "  <thead>\n",
       "    <tr style=\"text-align: right;\">\n",
       "      <th></th>\n",
       "      <th>Comment</th>\n",
       "      <th>Sentiment</th>\n",
       "    </tr>\n",
       "  </thead>\n",
       "  <tbody>\n",
       "    <tr>\n",
       "      <th>0</th>\n",
       "      <td>vallah bir ay deyil çəkdiyimiz 30 dəfə usta gə...</td>\n",
       "      <td>Negative</td>\n",
       "    </tr>\n",
       "    <tr>\n",
       "      <th>1</th>\n",
       "      <td>siz nətər insansız neyse 160 manat burnunuzdan...</td>\n",
       "      <td>Negative</td>\n",
       "    </tr>\n",
       "    <tr>\n",
       "      <th>2</th>\n",
       "      <td>hardadi i indi bele saf uwaqlar ve dermanlar</td>\n",
       "      <td>Negative</td>\n",
       "    </tr>\n",
       "    <tr>\n",
       "      <th>3</th>\n",
       "      <td>biz bu gün asif məhərrəmov filialından pendir ...</td>\n",
       "      <td>Negative</td>\n",
       "    </tr>\n",
       "    <tr>\n",
       "      <th>4</th>\n",
       "      <td>maraqlidir</td>\n",
       "      <td>Positive</td>\n",
       "    </tr>\n",
       "  </tbody>\n",
       "</table>\n",
       "</div>"
      ],
      "text/plain": [
       "                                             Comment Sentiment\n",
       "0  vallah bir ay deyil çəkdiyimiz 30 dəfə usta gə...  Negative\n",
       "1  siz nətər insansız neyse 160 manat burnunuzdan...  Negative\n",
       "2       hardadi i indi bele saf uwaqlar ve dermanlar  Negative\n",
       "3  biz bu gün asif məhərrəmov filialından pendir ...  Negative\n",
       "4                                         maraqlidir  Positive"
      ]
     },
     "execution_count": 64,
     "metadata": {},
     "output_type": "execute_result"
    }
   ],
   "source": [
    "df.head()"
   ]
  },
  {
   "cell_type": "code",
   "execution_count": 65,
   "id": "64e64625",
   "metadata": {},
   "outputs": [],
   "source": [
    "df['Comment'] = df['Comment'].values.astype('str')"
   ]
  },
  {
   "cell_type": "code",
   "execution_count": 66,
   "id": "481a88f0",
   "metadata": {},
   "outputs": [
    {
     "data": {
      "text/plain": [
       "0        vallah bir ay deyil çəkdiyimiz 30 dəfə usta gə...\n",
       "1        siz nətər insansız neyse 160 manat burnunuzdan...\n",
       "2             hardadi i indi bele saf uwaqlar ve dermanlar\n",
       "3        biz bu gün asif məhərrəmov filialından pendir ...\n",
       "4                                               maraqlidir\n",
       "                               ...                        \n",
       "45034                      qəşəng söyərdim bunu yeri deyil\n",
       "45035                                            mədəni ol\n",
       "45036    filmlər o qədər möhtəşəm şeylərdir ki tarix ye...\n",
       "45037                mənə niyə telefonu cevirttirdinnnn dd\n",
       "45038    yaxşı muğam oxuyan ola oturasan böyründə qulaq...\n",
       "Name: Comment, Length: 45039, dtype: object"
      ]
     },
     "execution_count": 66,
     "metadata": {},
     "output_type": "execute_result"
    }
   ],
   "source": [
    "df['Comment']"
   ]
  },
  {
   "cell_type": "markdown",
   "id": "3ccf0fd4",
   "metadata": {
    "id": "tT1yZcqB5--6"
   },
   "source": [
    "# CountVectorizer (Representing the string in numerical form)"
   ]
  },
  {
   "cell_type": "markdown",
   "id": "82400e9a",
   "metadata": {},
   "source": [
    "### Pipeline with CountVectorizer"
   ]
  },
  {
   "cell_type": "code",
   "execution_count": 67,
   "id": "70ed451c",
   "metadata": {},
   "outputs": [],
   "source": [
    "from sklearn.feature_extraction.text import CountVectorizer, TfidfVectorizer\n",
    "from sklearn.naive_bayes import GaussianNB\n",
    "from sklearn.naive_bayes import MultinomialNB\n",
    "from sklearn.pipeline import Pipeline"
   ]
  },
  {
   "cell_type": "code",
   "execution_count": 68,
   "id": "d105502b",
   "metadata": {},
   "outputs": [],
   "source": [
    "text_clf = Pipeline([(\"vec\", CountVectorizer(analyzer=\"char_wb\", ngram_range=(3, 4))),\n",
    "                     (\"clf\",MultinomialNB())])\n"
   ]
  },
  {
   "cell_type": "code",
   "execution_count": 69,
   "id": "18e12e0f",
   "metadata": {},
   "outputs": [],
   "source": [
    "from sklearn.model_selection import train_test_split\n",
    "x_train,x_test,y_train,y_test = train_test_split(df['Comment'], df['Sentiment'],test_size = 0.2,random_state = 42)\n"
   ]
  },
  {
   "cell_type": "code",
   "execution_count": 70,
   "id": "80b1452d",
   "metadata": {},
   "outputs": [
    {
     "data": {
      "text/html": [
       "<style>#sk-container-id-1 {color: black;background-color: white;}#sk-container-id-1 pre{padding: 0;}#sk-container-id-1 div.sk-toggleable {background-color: white;}#sk-container-id-1 label.sk-toggleable__label {cursor: pointer;display: block;width: 100%;margin-bottom: 0;padding: 0.3em;box-sizing: border-box;text-align: center;}#sk-container-id-1 label.sk-toggleable__label-arrow:before {content: \"▸\";float: left;margin-right: 0.25em;color: #696969;}#sk-container-id-1 label.sk-toggleable__label-arrow:hover:before {color: black;}#sk-container-id-1 div.sk-estimator:hover label.sk-toggleable__label-arrow:before {color: black;}#sk-container-id-1 div.sk-toggleable__content {max-height: 0;max-width: 0;overflow: hidden;text-align: left;background-color: #f0f8ff;}#sk-container-id-1 div.sk-toggleable__content pre {margin: 0.2em;color: black;border-radius: 0.25em;background-color: #f0f8ff;}#sk-container-id-1 input.sk-toggleable__control:checked~div.sk-toggleable__content {max-height: 200px;max-width: 100%;overflow: auto;}#sk-container-id-1 input.sk-toggleable__control:checked~label.sk-toggleable__label-arrow:before {content: \"▾\";}#sk-container-id-1 div.sk-estimator input.sk-toggleable__control:checked~label.sk-toggleable__label {background-color: #d4ebff;}#sk-container-id-1 div.sk-label input.sk-toggleable__control:checked~label.sk-toggleable__label {background-color: #d4ebff;}#sk-container-id-1 input.sk-hidden--visually {border: 0;clip: rect(1px 1px 1px 1px);clip: rect(1px, 1px, 1px, 1px);height: 1px;margin: -1px;overflow: hidden;padding: 0;position: absolute;width: 1px;}#sk-container-id-1 div.sk-estimator {font-family: monospace;background-color: #f0f8ff;border: 1px dotted black;border-radius: 0.25em;box-sizing: border-box;margin-bottom: 0.5em;}#sk-container-id-1 div.sk-estimator:hover {background-color: #d4ebff;}#sk-container-id-1 div.sk-parallel-item::after {content: \"\";width: 100%;border-bottom: 1px solid gray;flex-grow: 1;}#sk-container-id-1 div.sk-label:hover label.sk-toggleable__label {background-color: #d4ebff;}#sk-container-id-1 div.sk-serial::before {content: \"\";position: absolute;border-left: 1px solid gray;box-sizing: border-box;top: 0;bottom: 0;left: 50%;z-index: 0;}#sk-container-id-1 div.sk-serial {display: flex;flex-direction: column;align-items: center;background-color: white;padding-right: 0.2em;padding-left: 0.2em;position: relative;}#sk-container-id-1 div.sk-item {position: relative;z-index: 1;}#sk-container-id-1 div.sk-parallel {display: flex;align-items: stretch;justify-content: center;background-color: white;position: relative;}#sk-container-id-1 div.sk-item::before, #sk-container-id-1 div.sk-parallel-item::before {content: \"\";position: absolute;border-left: 1px solid gray;box-sizing: border-box;top: 0;bottom: 0;left: 50%;z-index: -1;}#sk-container-id-1 div.sk-parallel-item {display: flex;flex-direction: column;z-index: 1;position: relative;background-color: white;}#sk-container-id-1 div.sk-parallel-item:first-child::after {align-self: flex-end;width: 50%;}#sk-container-id-1 div.sk-parallel-item:last-child::after {align-self: flex-start;width: 50%;}#sk-container-id-1 div.sk-parallel-item:only-child::after {width: 0;}#sk-container-id-1 div.sk-dashed-wrapped {border: 1px dashed gray;margin: 0 0.4em 0.5em 0.4em;box-sizing: border-box;padding-bottom: 0.4em;background-color: white;}#sk-container-id-1 div.sk-label label {font-family: monospace;font-weight: bold;display: inline-block;line-height: 1.2em;}#sk-container-id-1 div.sk-label-container {text-align: center;}#sk-container-id-1 div.sk-container {/* jupyter's `normalize.less` sets `[hidden] { display: none; }` but bootstrap.min.css set `[hidden] { display: none !important; }` so we also need the `!important` here to be able to override the default hidden behavior on the sphinx rendered scikit-learn.org. See: https://github.com/scikit-learn/scikit-learn/issues/21755 */display: inline-block !important;position: relative;}#sk-container-id-1 div.sk-text-repr-fallback {display: none;}</style><div id=\"sk-container-id-1\" class=\"sk-top-container\"><div class=\"sk-text-repr-fallback\"><pre>Pipeline(steps=[(&#x27;vec&#x27;,\n",
       "                 CountVectorizer(analyzer=&#x27;char_wb&#x27;, ngram_range=(3, 4))),\n",
       "                (&#x27;clf&#x27;, MultinomialNB())])</pre><b>In a Jupyter environment, please rerun this cell to show the HTML representation or trust the notebook. <br />On GitHub, the HTML representation is unable to render, please try loading this page with nbviewer.org.</b></div><div class=\"sk-container\" hidden><div class=\"sk-item sk-dashed-wrapped\"><div class=\"sk-label-container\"><div class=\"sk-label sk-toggleable\"><input class=\"sk-toggleable__control sk-hidden--visually\" id=\"sk-estimator-id-1\" type=\"checkbox\" ><label for=\"sk-estimator-id-1\" class=\"sk-toggleable__label sk-toggleable__label-arrow\">Pipeline</label><div class=\"sk-toggleable__content\"><pre>Pipeline(steps=[(&#x27;vec&#x27;,\n",
       "                 CountVectorizer(analyzer=&#x27;char_wb&#x27;, ngram_range=(3, 4))),\n",
       "                (&#x27;clf&#x27;, MultinomialNB())])</pre></div></div></div><div class=\"sk-serial\"><div class=\"sk-item\"><div class=\"sk-estimator sk-toggleable\"><input class=\"sk-toggleable__control sk-hidden--visually\" id=\"sk-estimator-id-2\" type=\"checkbox\" ><label for=\"sk-estimator-id-2\" class=\"sk-toggleable__label sk-toggleable__label-arrow\">CountVectorizer</label><div class=\"sk-toggleable__content\"><pre>CountVectorizer(analyzer=&#x27;char_wb&#x27;, ngram_range=(3, 4))</pre></div></div></div><div class=\"sk-item\"><div class=\"sk-estimator sk-toggleable\"><input class=\"sk-toggleable__control sk-hidden--visually\" id=\"sk-estimator-id-3\" type=\"checkbox\" ><label for=\"sk-estimator-id-3\" class=\"sk-toggleable__label sk-toggleable__label-arrow\">MultinomialNB</label><div class=\"sk-toggleable__content\"><pre>MultinomialNB()</pre></div></div></div></div></div></div></div>"
      ],
      "text/plain": [
       "Pipeline(steps=[('vec',\n",
       "                 CountVectorizer(analyzer='char_wb', ngram_range=(3, 4))),\n",
       "                ('clf', MultinomialNB())])"
      ]
     },
     "execution_count": 70,
     "metadata": {},
     "output_type": "execute_result"
    }
   ],
   "source": [
    "text_clf.fit(x_train, y_train)"
   ]
  },
  {
   "cell_type": "markdown",
   "id": "958b8843",
   "metadata": {},
   "source": [
    "## Predict"
   ]
  },
  {
   "cell_type": "code",
   "execution_count": 71,
   "id": "952afc29",
   "metadata": {},
   "outputs": [
    {
     "data": {
      "text/plain": [
       "array(['Positive'], dtype='<U8')"
      ]
     },
     "execution_count": 71,
     "metadata": {},
     "output_type": "execute_result"
    }
   ],
   "source": [
    "text_clf.predict([\"bu çox pis videodur !!!\"])"
   ]
  },
  {
   "cell_type": "code",
   "execution_count": 72,
   "id": "a5ee0152",
   "metadata": {},
   "outputs": [
    {
     "data": {
      "text/plain": [
       "array(['Positive'], dtype='<U8')"
      ]
     },
     "execution_count": 72,
     "metadata": {},
     "output_type": "execute_result"
    }
   ],
   "source": [
    "text_clf.predict([\"bu çox əla videodur !!!\"])"
   ]
  },
  {
   "cell_type": "code",
   "execution_count": 73,
   "id": "d9d6418a",
   "metadata": {},
   "outputs": [
    {
     "data": {
      "text/plain": [
       "array(['Negative'], dtype='<U8')"
      ]
     },
     "execution_count": 73,
     "metadata": {},
     "output_type": "execute_result"
    }
   ],
   "source": [
    "text_clf.predict([\"salam. menim akkauntumda problem var\"])"
   ]
  },
  {
   "cell_type": "markdown",
   "id": "b2241e6b",
   "metadata": {},
   "source": [
    "## Scoring"
   ]
  },
  {
   "cell_type": "code",
   "execution_count": 74,
   "id": "c73f107b",
   "metadata": {
    "id": "Wy3jefA-5--8"
   },
   "outputs": [
    {
     "data": {
      "text/plain": [
       "0.7657295106991202"
      ]
     },
     "execution_count": 74,
     "metadata": {},
     "output_type": "execute_result"
    }
   ],
   "source": [
    "text_clf.score(x_train,y_train)"
   ]
  },
  {
   "cell_type": "code",
   "execution_count": 75,
   "id": "328d5157",
   "metadata": {
    "id": "BzYdSRaH5--8"
   },
   "outputs": [
    {
     "data": {
      "text/plain": [
       "0.7099245115452931"
      ]
     },
     "execution_count": 75,
     "metadata": {},
     "output_type": "execute_result"
    }
   ],
   "source": [
    "text_clf.score(x_test,y_test) # Accuracy"
   ]
  },
  {
   "cell_type": "code",
   "execution_count": 76,
   "id": "9c38be03",
   "metadata": {
    "id": "ZeTfwAJFubEK"
   },
   "outputs": [],
   "source": [
    "y_pred = text_clf.predict(x_test)"
   ]
  },
  {
   "cell_type": "code",
   "execution_count": 77,
   "id": "8501e4e3",
   "metadata": {
    "id": "u-FIUvhsubEL"
   },
   "outputs": [
    {
     "data": {
      "text/plain": [
       "array(['Negative', 'Neutral', 'Neutral', ..., 'Positive', 'Neutral',\n",
       "       'Positive'], dtype='<U8')"
      ]
     },
     "execution_count": 77,
     "metadata": {},
     "output_type": "execute_result"
    }
   ],
   "source": [
    "y_pred"
   ]
  },
  {
   "cell_type": "code",
   "execution_count": 78,
   "id": "69bc2a2a",
   "metadata": {
    "id": "kddj8s27ubEL"
   },
   "outputs": [
    {
     "name": "stdout",
     "output_type": "stream",
     "text": [
      "              precision    recall  f1-score   support\n",
      "\n",
      "    Negative       0.53      0.55      0.54      1855\n",
      "     Neutral       0.79      0.76      0.78      5297\n",
      "    Positive       0.67      0.72      0.69      1856\n",
      "\n",
      "    accuracy                           0.71      9008\n",
      "   macro avg       0.67      0.68      0.67      9008\n",
      "weighted avg       0.71      0.71      0.71      9008\n",
      "\n"
     ]
    }
   ],
   "source": [
    "from sklearn.metrics import classification_report\n",
    "print(classification_report(y_test, y_pred))"
   ]
  },
  {
   "cell_type": "markdown",
   "id": "a7ce8bcf",
   "metadata": {},
   "source": [
    "## Confusion matrix"
   ]
  },
  {
   "cell_type": "code",
   "execution_count": 108,
   "id": "b775d83b",
   "metadata": {},
   "outputs": [],
   "source": [
    "from sklearn.metrics import plot_confusion_matrix"
   ]
  },
  {
   "cell_type": "code",
   "execution_count": 109,
   "id": "8becd0dd",
   "metadata": {},
   "outputs": [
    {
     "name": "stdout",
     "output_type": "stream",
     "text": [
      "[[ 507 1632   25]\n",
      " [ 186 5601   95]\n",
      " [  49 1133  757]]\n"
     ]
    },
    {
     "data": {
      "image/png": "[encoded data removed]",
      "text/plain": [
       "<Figure size 432x288 with 2 Axes>"
      ]
     },
     "metadata": {
      "needs_background": "light"
     },
     "output_type": "display_data"
    }
   ],
   "source": [
    "from sklearn.metrics import plot_confusion_matrix\n",
    "import matplotlib.pyplot as plt\n",
    "disp = plot_confusion_matrix(text_clf, x_test, y_test,\n",
    "                                 cmap=plt.cm.Blues,\n",
    "                            )\n",
    "disp.ax_.set_title(\"Confusion matrix\")\n",
    "\n",
    "print(disp.confusion_matrix)\n",
    "\n",
    "plt.show()"
   ]
  },
  {
   "cell_type": "markdown",
   "id": "166efc96",
   "metadata": {},
   "source": [
    "## Saving to pickle file"
   ]
  },
  {
   "cell_type": "code",
   "execution_count": 110,
   "id": "285d0df0",
   "metadata": {},
   "outputs": [],
   "source": [
    "import pickle"
   ]
  },
  {
   "cell_type": "code",
   "execution_count": 112,
   "id": "312d262e",
   "metadata": {},
   "outputs": [],
   "source": [
    "filename='tfidf_multinomialnb.pkl'"
   ]
  },
  {
   "cell_type": "code",
   "execution_count": 113,
   "id": "b163fb53",
   "metadata": {},
   "outputs": [],
   "source": [
    "with open(filename,'wb') as file:\n",
    "    pickle.dump(text_clf, file)"
   ]
  },
  {
   "cell_type": "code",
   "execution_count": null,
   "id": "9c81d9df",
   "metadata": {},
   "outputs": [],
   "source": []
  },
  {
   "cell_type": "code",
   "execution_count": null,
   "id": "1e69fbed",
   "metadata": {},
   "outputs": [],
   "source": []
  },
  {
   "cell_type": "markdown",
   "id": "a8241d52",
   "metadata": {},
   "source": [
    "## Testing pickle file"
   ]
  },
  {
   "cell_type": "code",
   "execution_count": null,
   "id": "f7b95582",
   "metadata": {},
   "outputs": [],
   "source": []
  },
  {
   "cell_type": "code",
   "execution_count": 114,
   "id": "bc7f5b92",
   "metadata": {},
   "outputs": [],
   "source": [
    "import pickle\n",
    "from sklearn.feature_extraction.text import CountVectorizer, TfidfVectorizer\n",
    "from sklearn.linear_model import LogisticRegression\n",
    "from sklearn.pipeline import Pipeline"
   ]
  },
  {
   "cell_type": "code",
   "execution_count": 115,
   "id": "4ddd45c6",
   "metadata": {},
   "outputs": [],
   "source": [
    "filename='tfidf_multinomialnb.pkl'"
   ]
  },
  {
   "cell_type": "code",
   "execution_count": 116,
   "id": "e28a6bf3",
   "metadata": {},
   "outputs": [],
   "source": [
    "with open(filename,'rb') as file:\n",
    "    text_clf = pickle.load(file)"
   ]
  },
  {
   "cell_type": "code",
   "execution_count": 117,
   "id": "df579146",
   "metadata": {},
   "outputs": [
    {
     "data": {
      "text/plain": [
       "array(['Neutral'], dtype='<U8')"
      ]
     },
     "execution_count": 117,
     "metadata": {},
     "output_type": "execute_result"
    }
   ],
   "source": [
    "text_clf.predict([\"bu çox pis videodur !!!\"])"
   ]
  },
  {
   "cell_type": "code",
   "execution_count": 118,
   "id": "aa65bc21",
   "metadata": {},
   "outputs": [
    {
     "data": {
      "text/plain": [
       "array(['Neutral'], dtype='<U8')"
      ]
     },
     "execution_count": 118,
     "metadata": {},
     "output_type": "execute_result"
    }
   ],
   "source": [
    "text_clf.predict([\"bu çox əla videodur !!!\"])"
   ]
  },
  {
   "cell_type": "code",
   "execution_count": 119,
   "id": "3979029c",
   "metadata": {},
   "outputs": [
    {
     "data": {
      "text/plain": [
       "array(['Negative'], dtype='<U8')"
      ]
     },
     "execution_count": 119,
     "metadata": {},
     "output_type": "execute_result"
    }
   ],
   "source": [
    "text_clf.predict([\"salam. menim akkauntumda problem var\"])"
   ]
  },
  {
   "cell_type": "code",
   "execution_count": null,
   "id": "b23cc57f",
   "metadata": {},
   "outputs": [],
   "source": []
  },
  {
   "cell_type": "code",
   "execution_count": null,
   "id": "f7d56306",
   "metadata": {},
   "outputs": [],
   "source": []
  },
  {
   "cell_type": "code",
   "execution_count": null,
   "id": "ea412c23",
   "metadata": {
    "id": "9pQBMWBAubEO"
   },
   "outputs": [],
   "source": []
  },
  {
   "cell_type": "code",
   "execution_count": null,
   "id": "1a52956a",
   "metadata": {},
   "outputs": [],
   "source": []
  },
  {
   "cell_type": "code",
   "execution_count": null,
   "id": "d4f3c55c",
   "metadata": {},
   "outputs": [],
   "source": []
  }
 ],
 "metadata": {
  "colab": {
   "provenance": []
  },
  "kernelspec": {
   "display_name": "Python 3 (ipykernel)",
   "language": "python",
   "name": "python3"
  },
  "language_info": {
   "codemirror_mode": {
    "name": "ipython",
    "version": 3
   },
   "file_extension": ".py",
   "mimetype": "text/x-python",
   "name": "python",
   "nbconvert_exporter": "python",
   "pygments_lexer": "ipython3",
   "version": "3.10.9"
  }
 },
 "nbformat": 4,
 "nbformat_minor": 5
}
